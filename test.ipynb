{
 "cells": [
  {
   "cell_type": "code",
   "execution_count": 2,
   "metadata": {},
   "outputs": [
    {
     "name": "stdout",
     "output_type": "stream",
     "text": [
      "Groq API Key: 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\n"
     ]
    }
   ],
   "source": [
    "import os\n",
    "print(\"Groq API Key:\", os.getenv(\"GROQ_API_KEY\"))"
   ]
  },
  {
   "cell_type": "code",
   "execution_count": 8,
   "metadata": {},
   "outputs": [],
   "source": [
    "test = \"To generate possible next steps for the input 4, 9, 10, 13, we can use basic arithmetic operations (+, -, *, /) to combine these numbers in various ways, ensuring that we prioritize steps that could plausibly lead to the target number 24. Here are some potential next steps:\\n\\n1. **4 + 9 = 13** (left: 10 13 13) - This step simplifies the numbers but doesn't directly help in reaching 24 without further operations.\\n2. **10 - 4 = 6** (left: 6 9 13) - This introduces a smaller number that could be more manageable in further calculations.\\n\\nGiven these potential steps, the most promising ones for leading towards 24, considering we aim for simplicity and directness in our calculations, would likely involve creating smaller, manageable numbers through division or subtraction, or creating numbers close to 24 through addition. However, without executing these steps and seeing their outcomes, it's challenging to determine the most fruitful path directly.\"\n",
    "test2 = \"I'll use the numbers and basic arithmetic operations to obtain 24. The input is: 4 9 10 13\\nSteps:\\n13 - 9 = 4 (left: 4 10 4)\\n10 - 4 = 6 (left: 4 6)\\n6 * 4 = 24 (left: 24)\\nAnswer: (10 - (13 - 9)) * (13 - 9) = 24\\nor\\nAnswer: (13 - 9) * (10 - (13 - 9)) = 24\\nor\\nAnswer: 6 * 4 = 24\\nwhere 6 = 10 - 4 and 4 = 13 - 9.\""
   ]
  },
  {
   "cell_type": "code",
   "execution_count": 9,
   "metadata": {},
   "outputs": [
    {
     "name": "stdout",
     "output_type": "stream",
     "text": [
      "[\"I'll use the numbers and basic arithmetic operations to obtain 24. The input is: 4 9 10 13\", 'Steps:', '13 - 9 = 4 (left: 4 10 4)', '10 - 4 = 6 (left: 4 6)', '6 * 4 = 24 (left: 24)', 'Answer: (10 - (13 - 9)) * (13 - 9) = 24', 'or', 'Answer: (13 - 9) * (10 - (13 - 9)) = 24', 'or', 'Answer: 6 * 4 = 24', 'where 6 = 10 - 4 and 4 = 13 - 9.']\n"
     ]
    }
   ],
   "source": [
    "print(test2.split(\"\\n\"))"
   ]
  }
 ],
 "metadata": {
  "kernelspec": {
   "display_name": "foa",
   "language": "python",
   "name": "python3"
  },
  "language_info": {
   "codemirror_mode": {
    "name": "ipython",
    "version": 3
   },
   "file_extension": ".py",
   "mimetype": "text/x-python",
   "name": "python",
   "nbconvert_exporter": "python",
   "pygments_lexer": "ipython3",
   "version": "3.11.11"
  }
 },
 "nbformat": 4,
 "nbformat_minor": 2
}
